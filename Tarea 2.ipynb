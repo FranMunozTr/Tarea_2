{
 "cells": [
  {
   "cell_type": "markdown",
   "id": "6db128d7",
   "metadata": {},
   "source": [
    "**Tarea 2**\n",
    "\n",
    "*Herramientas de analisis de datos*\n",
    "\n",
    "**Alumna**: Francisca Muñoz Troncoso. \n",
    "\n",
    "**Carrera**: Ingenieria Civil en Biotecnologia."
   ]
  },
  {
   "cell_type": "code",
   "execution_count": 62,
   "id": "e052bad9",
   "metadata": {},
   "outputs": [],
   "source": [
    "from numpy import *"
   ]
  },
  {
   "cell_type": "markdown",
   "id": "14242557",
   "metadata": {},
   "source": [
    "**Parte 1: En busqueda del auto de tus sueños**"
   ]
  },
  {
   "cell_type": "code",
   "execution_count": 29,
   "id": "e206d1fb",
   "metadata": {},
   "outputs": [],
   "source": [
    "\n",
    "def meses_ahorro_pago(salario_mensual, proporcion_ahorrada, costo_auto):\n",
    "    proporcion_pago_inicial = 0.2\n",
    "    ahorro_actual = 0\n",
    "    mes = 0 \n",
    "    pie=proporcion_pago_inicial*costo_auto\n",
    "    while ahorro_actual < pie:\n",
    "        ahorro_actual= ahorro_actual + proporcion_ahorrada*salario_mensual \n",
    "        mes = mes + 1\n",
    "    print(\"Salario mensual: {}\".format(salario_mensual),\"\\nPorcentaje del salario mensual que voy a ahorrar (decimal): {}\".format(proporcion_ahorrada),\"\\nCosto del auto de mis sueños: {}\".format(costo_auto),\"\\nNumero de meses que debo ahorrar: {}\".format(mes))"
   ]
  },
  {
   "cell_type": "code",
   "execution_count": 34,
   "id": "e3c01b4a",
   "metadata": {
    "scrolled": true
   },
   "outputs": [
    {
     "name": "stdout",
     "output_type": "stream",
     "text": [
      "Salario mensual: 1200000 \n",
      "Porcentaje del salario mensual que voy a ahorrar (decimal): 0.1 \n",
      "Costo del auto de mis sueños: 10000000 \n",
      "Numero de meses que debo ahorrar: 17\n"
     ]
    }
   ],
   "source": [
    "meses_ahorro_pago(salario_mensual=1200000, proporcion_ahorrada=0.1, costo_auto=10000000) "
   ]
  },
  {
   "cell_type": "markdown",
   "id": "63ae0ab4",
   "metadata": {},
   "source": [
    "**Parte 2: Invirtiendo y ahorrando mas**"
   ]
  },
  {
   "cell_type": "code",
   "execution_count": 54,
   "id": "5fbe7d16",
   "metadata": {},
   "outputs": [],
   "source": [
    "def ahorro_auto_inv(salario_mensual, proporcion_ahorrada, costo_auto):\n",
    "    proporcion_pago_inicial = 0.2\n",
    "    ahorro_actual = 0\n",
    "    mes = 0 \n",
    "    r = 0.1\n",
    "    ahorro_anterior=0\n",
    "    pie=proporcion_pago_inicial*costo_auto\n",
    "    while ahorro_actual < pie:\n",
    "        ahorro_anterior= ahorro_actual\n",
    "        ahorro_actual= ahorro_actual + proporcion_ahorrada*salario_mensual \n",
    "        ahorro_actual= ahorro_anterior*r + ahorro_actual\n",
    "        mes = mes + 1\n",
    "    print(\"Salario mensual: {}\".format(salario_mensual),\"\\nPorcentaje del salario mensual que voy a ahorrar (decimal): {}\".format(proporcion_ahorrada),\"\\nCosto del auto de mis sueños: {}\".format(costo_auto),\"\\nNumero de meses que debo ahorrar: {}\".format(mes))"
   ]
  },
  {
   "cell_type": "code",
   "execution_count": 55,
   "id": "03902419",
   "metadata": {
    "scrolled": false
   },
   "outputs": [
    {
     "name": "stdout",
     "output_type": "stream",
     "text": [
      "Salario mensual: 1700000 \n",
      "Porcentaje del salario mensual que voy a ahorrar (decimal): 0.4 \n",
      "Costo del auto de mis sueños: 20000000 \n",
      "Numero de meses que debo ahorrar: 5\n"
     ]
    }
   ],
   "source": [
    "ahorro_auto_inv(salario_mensual=1700000, proporcion_ahorrada=0.4, costo_auto=20000000)\n"
   ]
  },
  {
   "cell_type": "markdown",
   "id": "eddfe036",
   "metadata": {},
   "source": [
    "**Parte 3: Ahorrando con un aumento de salario**"
   ]
  },
  {
   "cell_type": "code",
   "execution_count": 4,
   "id": "f05e228d",
   "metadata": {},
   "outputs": [],
   "source": [
    "def ahorro_auto_aum(salario_mensual, proporcion_ahorrada, costo_auto, proporcion_aumento_salario):\n",
    "    proporcion_pago_inicial = 0.2\n",
    "    ahorro_actual = 0\n",
    "    mes = 0 \n",
    "    r = 0.1\n",
    "    ahorro_anterior=0\n",
    "    pie=proporcion_pago_inicial*costo_auto\n",
    "    while ahorro_actual < pie:\n",
    "        ahorro_anterior= ahorro_actual\n",
    "        ahorro_actual= ahorro_actual + proporcion_ahorrada*salario_mensual \n",
    "        ahorro_actual= ahorro_anterior*r + ahorro_actual\n",
    "        mes = mes+1\n",
    "        if(mes % 6 == 0):\n",
    "            salario_mensual= salario_mensual + salario_mensual*proporcion_aumento_salario\n",
    "    print(\"Salario mensual: {}\".format(salario_mensual),\"\\nPorcentaje del salario mensual que voy a ahorrar (decimal): {}\".format(proporcion_ahorrada),\"\\nCosto del auto de mis sueños: {}\".format(costo_auto),\"\\nNumero de meses que debo ahorrar: {}\".format(mes))"
   ]
  },
  {
   "cell_type": "code",
   "execution_count": 5,
   "id": "92f41436",
   "metadata": {
    "scrolled": false
   },
   "outputs": [
    {
     "name": "stdout",
     "output_type": "stream",
     "text": [
      "Salario mensual: 1400000.0 \n",
      "Porcentaje del salario mensual que voy a ahorrar (decimal): 0.2 \n",
      "Costo del auto de mis sueños: 15000000 \n",
      "Numero de meses que debo ahorrar: 10\n"
     ]
    }
   ],
   "source": [
    "ahorro_auto_aum(salario_mensual=1000000, proporcion_ahorrada=0.2, costo_auto=15000000, proporcion_aumento_salario=0.4)"
   ]
  }
 ],
 "metadata": {
  "kernelspec": {
   "display_name": "Python 3 (ipykernel)",
   "language": "python",
   "name": "python3"
  },
  "language_info": {
   "codemirror_mode": {
    "name": "ipython",
    "version": 3
   },
   "file_extension": ".py",
   "mimetype": "text/x-python",
   "name": "python",
   "nbconvert_exporter": "python",
   "pygments_lexer": "ipython3",
   "version": "3.10.9"
  }
 },
 "nbformat": 4,
 "nbformat_minor": 5
}
